{
 "cells": [
  {
   "cell_type": "markdown",
   "metadata": {
    "id": "cdFdzjDmkm4o"
   },
   "source": [
    "# Assignment Questions on Exception Handling\n",
    "\n",
    "---\n",
    "\n",
    "\n",
    "1. What is the role of try and exception block?\n",
    "2. What is the syntax for a basic try-except block?\n",
    "3. What happens if an exception occurs inside a try block and there is no matching\n",
    "except block?\n",
    "4. What is the difference between using a bare except block and specifying a specific\n",
    "exception type?\n",
    "5. Can you have nested try-except blocks in Python? If yes, then give an example.\n",
    "6. Can we use multiple exception blocks, if yes then give an example.\n",
    "7. Write the reason due to which following errors are raised:\n",
    "a. EOFError\n",
    "b. FloatingPointError\n",
    "c. IndexError\n",
    "d. MemoryError\n",
    "e. OverflowError\n",
    "f. TabError\n",
    "g. ValueError\n",
    "8. Write code for the following given scenario and add try-exception block to it.\n",
    "a. Program to divide two numbers\n",
    "b. Program to convert a string to an integer\n",
    "c. Program to access an element in a list\n",
    "d. Program to handle a specific exception\n",
    "e. Program to handle any exception"
   ]
  },
  {
   "cell_type": "markdown",
   "metadata": {
    "id": "85ufHtRqkpJm"
   },
   "source": [
    "## Answer 1."
   ]
  },
  {
   "cell_type": "markdown",
   "metadata": {
    "id": "PHwea2FlK-iL"
   },
   "source": [
    "Role of 'try and execution' block is that, it is a way of running your\n",
    "code in a safer way. When your code fails to execute certain operation\n",
    "such as dividing by zero or finding the element in an array at certain\n",
    "index which is larger than the length of the array. At such moments the\n",
    "execution of the code throws an exception. To handle this exception\n",
    "exceptions the 'try and exception' block is/are used."
   ]
  },
  {
   "cell_type": "code",
   "execution_count": null,
   "metadata": {
    "id": "ML6BprPdMcAY"
   },
   "outputs": [],
   "source": []
  },
  {
   "cell_type": "markdown",
   "metadata": {
    "id": "jWS_UxcBMz9n"
   },
   "source": [
    "## Answer 2."
   ]
  },
  {
   "cell_type": "markdown",
   "metadata": {
    "id": "AVM_6zqkM3BG"
   },
   "source": [
    "Syntax for basic try and exception block is as shown below"
   ]
  },
  {
   "cell_type": "code",
   "execution_count": 6,
   "metadata": {
    "colab": {
     "base_uri": "https://localhost:8080/"
    },
    "id": "Q7YnSCEfNCDm",
    "outputId": "0a27d5e6-f73e-4ccb-f2e7-27f482d09f25"
   },
   "outputs": [
    {
     "name": "stdout",
     "output_type": "stream",
     "text": [
      "try block excuted\n"
     ]
    }
   ],
   "source": [
    "try:\n",
    "  #statements in try block\n",
    "  print('try block excuted')\n",
    "\n",
    "except:\n",
    "  #if above code cathes an exception this block will be executed\n",
    "  print('except block executed')\n"
   ]
  },
  {
   "cell_type": "markdown",
   "metadata": {
    "id": "e1_iXTOQOvvg"
   },
   "source": [
    "## Answer 3."
   ]
  },
  {
   "cell_type": "markdown",
   "metadata": {
    "id": "GBB4RbuQPFfa"
   },
   "source": [
    "If there is no matching except block the exception will be thrown.\n",
    "below code is an example of the same"
   ]
  },
  {
   "cell_type": "code",
   "execution_count": 16,
   "metadata": {
    "colab": {
     "base_uri": "https://localhost:8080/",
     "height": 228
    },
    "id": "y8gmcVWGPEXU",
    "outputId": "825c9c4a-c632-4d4b-b837-67ac87abcc76"
   },
   "outputs": [
    {
     "ename": "ZeroDivisionError",
     "evalue": "ignored",
     "output_type": "error",
     "traceback": [
      "\u001b[0;31m---------------------------------------------------------------------------\u001b[0m",
      "\u001b[0;31mZeroDivisionError\u001b[0m                         Traceback (most recent call last)",
      "\u001b[0;32m<ipython-input-16-ce03f543b711>\u001b[0m in \u001b[0;36m<cell line: 1>\u001b[0;34m()\u001b[0m\n\u001b[1;32m      1\u001b[0m \u001b[0;32mtry\u001b[0m\u001b[0;34m:\u001b[0m\u001b[0;34m\u001b[0m\u001b[0;34m\u001b[0m\u001b[0m\n\u001b[0;32m----> 2\u001b[0;31m   \u001b[0ma\u001b[0m\u001b[0;34m=\u001b[0m \u001b[0;36m5\u001b[0m\u001b[0;34m/\u001b[0m\u001b[0;36m0\u001b[0m\u001b[0;34m\u001b[0m\u001b[0;34m\u001b[0m\u001b[0m\n\u001b[0m\u001b[1;32m      3\u001b[0m \u001b[0;32mexcept\u001b[0m \u001b[0mNameError\u001b[0m\u001b[0;34m:\u001b[0m\u001b[0;34m\u001b[0m\u001b[0;34m\u001b[0m\u001b[0m\n\u001b[1;32m      4\u001b[0m   \u001b[0mprint\u001b[0m\u001b[0;34m(\u001b[0m\u001b[0;34m'zero divsion'\u001b[0m\u001b[0;34m)\u001b[0m\u001b[0;34m\u001b[0m\u001b[0;34m\u001b[0m\u001b[0m\n",
      "\u001b[0;31mZeroDivisionError\u001b[0m: division by zero"
     ]
    }
   ],
   "source": [
    "try:\n",
    "  a= 5/0\n",
    "except NameError:\n",
    "  print('Unknown variable')"
   ]
  },
  {
   "cell_type": "markdown",
   "metadata": {
    "id": "JNXfz9RZVoVx"
   },
   "source": [
    "## Answer 4."
   ]
  },
  {
   "cell_type": "markdown",
   "metadata": {
    "id": "_o4BHONUVvDF"
   },
   "source": [
    "Difference between a bare except block and specifying the specific except\n",
    "block is that, In case of Bare except block when an exception occurs in a\n",
    "try block directly the except block will be executed, but in case of a\n",
    "specific exception block only the except block that matches with the type\n",
    "of exception occured in try block only that except block will get executed\n",
    "Below is an example of this situation"
   ]
  },
  {
   "cell_type": "code",
   "execution_count": 25,
   "metadata": {
    "colab": {
     "base_uri": "https://localhost:8080/"
    },
    "id": "k0u-yZeTYopV",
    "outputId": "3732912f-140f-4425-f319-a2e3b8e48a9a"
   },
   "outputs": [
    {
     "name": "stdout",
     "output_type": "stream",
     "text": [
      "Unknown variable\n"
     ]
    }
   ],
   "source": [
    "try:\n",
    "  a = b / 5\n",
    "except NameError:\n",
    "  print('Unknown variable')\n",
    "except ZeroDivisionError:\n",
    "  print('Div by zero not possible')\n",
    "except :\n",
    "  print('some exception occured variable')"
   ]
  },
  {
   "cell_type": "code",
   "execution_count": 24,
   "metadata": {
    "colab": {
     "base_uri": "https://localhost:8080/"
    },
    "id": "gQ2zyrycY5hC",
    "outputId": "4ab2717a-253c-45f9-8964-679aee91bea3"
   },
   "outputs": [
    {
     "name": "stdout",
     "output_type": "stream",
     "text": [
      "Div by zero not possible\n"
     ]
    }
   ],
   "source": [
    "try:\n",
    "  a = 5/0\n",
    "except NameError:\n",
    "  print('Unknown variable')\n",
    "except ZeroDivisionError:\n",
    "  print('Div by zero not possible')\n",
    "except :\n",
    "  print('some exception occured variable')"
   ]
  },
  {
   "cell_type": "code",
   "execution_count": null,
   "metadata": {
    "id": "QiqOrv7gZiF7"
   },
   "outputs": [],
   "source": []
  },
  {
   "cell_type": "markdown",
   "metadata": {
    "id": "jSFoZwBkaAc4"
   },
   "source": [
    "## Answer 5."
   ]
  },
  {
   "cell_type": "markdown",
   "metadata": {
    "id": "xDEWz-cMaNoR"
   },
   "source": [
    "Yes we can have nested try-except block in python. below is an example for this."
   ]
  },
  {
   "cell_type": "code",
   "execution_count": 34,
   "metadata": {
    "colab": {
     "base_uri": "https://localhost:8080/"
    },
    "id": "pBCp1zntaM1b",
    "outputId": "122fc23b-d1cc-4fe9-c356-633eaf0067a4"
   },
   "outputs": [
    {
     "name": "stdout",
     "output_type": "stream",
     "text": [
      "This is outer try-except block\n"
     ]
    }
   ],
   "source": [
    "try:\n",
    "  b = 100/n\n",
    "  try:\n",
    "    c= b/(n-1)\n",
    "  except:\n",
    "    print('this is inner try-except block')\n",
    "except:\n",
    "  print('This is outer try-except block')"
   ]
  },
  {
   "cell_type": "code",
   "execution_count": 35,
   "metadata": {
    "colab": {
     "base_uri": "https://localhost:8080/"
    },
    "id": "IIfCimfGc5cH",
    "outputId": "e6e950b2-20fc-48f7-e804-5f421c56dfc9"
   },
   "outputs": [
    {
     "name": "stdout",
     "output_type": "stream",
     "text": [
      "this is inner try-except block\n"
     ]
    }
   ],
   "source": [
    "n= 1\n",
    "try:\n",
    "  b = 100/n\n",
    "  try:\n",
    "    c= a/(n-1)\n",
    "  except:\n",
    "    print('this is inner try-except block')\n",
    "except:\n",
    "  print('This is outer try-except block')"
   ]
  },
  {
   "cell_type": "markdown",
   "metadata": {
    "id": "ctsMjvLvdV0s"
   },
   "source": []
  },
  {
   "cell_type": "markdown",
   "metadata": {
    "id": "BimTEGnFdWv8"
   },
   "source": [
    "## Answer 6."
   ]
  },
  {
   "cell_type": "markdown",
   "metadata": {
    "id": "VdU0vzRkdu2R"
   },
   "source": [
    "Yes we can use multiple exception block but that should be specific except\n",
    "block. In other words, we cannot use multiple bare except block below a\n",
    "try block. Below is an example of 1. using it in right way 2. using it in wrong way  "
   ]
  },
  {
   "cell_type": "code",
   "execution_count": 36,
   "metadata": {
    "colab": {
     "base_uri": "https://localhost:8080/"
    },
    "id": "1sK5Rrxge_eo",
    "outputId": "a9de64e5-1bb4-4247-bdfb-c11700421885"
   },
   "outputs": [
    {
     "name": "stdout",
     "output_type": "stream",
     "text": [
      "Div by zero not possible\n"
     ]
    }
   ],
   "source": [
    "# 1.using in a right way\n",
    "try:\n",
    "  a = 5/0\n",
    "except NameError:\n",
    "  print('Unknown variable')\n",
    "except ZeroDivisionError:\n",
    "  print('Div by zero not possible')\n",
    "except :\n",
    "  print('some exception occured variable')"
   ]
  },
  {
   "cell_type": "code",
   "execution_count": 41,
   "metadata": {
    "id": "P_AT6QUXfPUh"
   },
   "outputs": [],
   "source": [
    "# 2.using in a wrong way(Not Possible)\n",
    "try:\n",
    "  a = 5/0\n",
    "except :\n",
    "  print('exception 1')\n",
    "except :\n",
    "  print('exception 2')"
   ]
  },
  {
   "cell_type": "markdown",
   "metadata": {
    "id": "TucpfYicgD5H"
   },
   "source": [
    "## Answer 7."
   ]
  },
  {
   "cell_type": "markdown",
   "metadata": {
    "id": "9yRAPesCgrSj"
   },
   "source": [
    "Reason for the following errors :\n",
    "\n",
    "EOFError : This is End Of File Error this exception happens when no input\n",
    "is given or no data is passed to built in input() function\n",
    "\n",
    "FloatingPointError : This not currently used as from python official documentation.\n",
    "\n",
    "IndexError : When we want to access element at ceratin index let's say at 5\n",
    "but if my Iterable (List,Tuple) has only 3 elements in that case it will\n",
    "throw this kind of exception.\n",
    "\n",
    "MemoryError : This exception is raised when too many of objects are\n",
    "created for which the present ram memory is inefficient. At such point of\n",
    "a time this error is raised.\n",
    "\n",
    "OverflowError : This kind of error occurs when the result of an arithmetic operation is too large.\n",
    "\n",
    "TabError : When the code contains inconsistent use of tabs and spaces this error is raised.\n",
    "\n",
    "ValueError : When certain values are not defined to be used as argument\n",
    "but the type of value is correct this kind of situation throws an\n",
    "ValueError ex- math.sqrt(-4)"
   ]
  },
  {
   "cell_type": "markdown",
   "metadata": {
    "id": "pz4YJGWX9vg-"
   },
   "source": [
    "## Answer 8."
   ]
  },
  {
   "cell_type": "code",
   "execution_count": 26,
   "metadata": {
    "colab": {
     "base_uri": "https://localhost:8080/"
    },
    "id": "_5eFTjCU-RSw",
    "outputId": "89e2c5cc-87a4-4a0b-b9fe-6dab6875e5cc"
   },
   "outputs": [
    {
     "name": "stdout",
     "output_type": "stream",
     "text": [
      "a = 3\n",
      "b = 0\n",
      "cannot divide by zero\n"
     ]
    }
   ],
   "source": [
    "#program to divide two numbers\n",
    "\n",
    "try:\n",
    "  a = int(input('a = '))\n",
    "  b = int(input('b = '))\n",
    "  print(a/b)\n",
    "except ZeroDivisionError:\n",
    "  print('cannot divide by zero')\n",
    "\n",
    "except:\n",
    "  print('invalid input')"
   ]
  },
  {
   "cell_type": "code",
   "execution_count": 33,
   "metadata": {
    "colab": {
     "base_uri": "https://localhost:8080/"
    },
    "id": "UbLbJ6GT8-VH",
    "outputId": "5fe4d8a0-af0e-4953-fa6e-d76fdef5be6a"
   },
   "outputs": [
    {
     "name": "stdout",
     "output_type": "stream",
     "text": [
      "Number = h\n",
      "Invalid Number\n"
     ]
    }
   ],
   "source": [
    "#program to convert string to an integer\n",
    "\n",
    "try:\n",
    "  s = input('Number = ')\n",
    "  num = int(s)\n",
    "  print(num)\n",
    "except:\n",
    "  print('Invalid Number')"
   ]
  },
  {
   "cell_type": "code",
   "execution_count": 41,
   "metadata": {
    "colab": {
     "base_uri": "https://localhost:8080/"
    },
    "id": "n0y_0TIS_rZ-",
    "outputId": "5b77b89e-6738-4060-d4b0-5da99af73cb9"
   },
   "outputs": [
    {
     "name": "stdout",
     "output_type": "stream",
     "text": [
      "Get value at position = 3\n",
      "3\n",
      "Operation Successful\n",
      "Execution Completed\n"
     ]
    }
   ],
   "source": [
    "#program to access an element in a list\n",
    "test = [2,2,3,3,4,4]\n",
    "try:\n",
    "  i = int(input('Get value at position = '))\n",
    "  print(test[i])\n",
    "except ValueError as e:\n",
    "  print(e)\n",
    "\n",
    "except IndexError as e:\n",
    "  print(e)\n",
    "\n",
    "except:\n",
    "  print('Some Error occured')\n",
    "\n",
    "else :\n",
    "  print('Operation Successful')\n",
    "\n",
    "finally:\n",
    "  print('Execution Completed')\n"
   ]
  },
  {
   "cell_type": "code",
   "execution_count": 56,
   "metadata": {
    "colab": {
     "base_uri": "https://localhost:8080/"
    },
    "id": "E07wcLpj_7ti",
    "outputId": "625350e2-2974-406f-dab1-01bf7b3b1a64"
   },
   "outputs": [
    {
     "name": "stdout",
     "output_type": "stream",
     "text": [
      "Unknown Variables\n"
     ]
    }
   ],
   "source": [
    "#program to handle specific exception\n",
    "try:\n",
    "  import flask\n",
    "  fullname = firstname +' '+ lastname\n",
    "  print(fullname)\n",
    "\n",
    "#specific exception\n",
    "except ModuleNotFoundError :\n",
    "  print('Module Not Found')\n",
    "\n",
    "#specific exception\n",
    "except NameError:\n",
    "  print('Unknown Variables')\n",
    "\n",
    "except:\n",
    "  print('Some Unknown error occured')"
   ]
  },
  {
   "cell_type": "code",
   "execution_count": 60,
   "metadata": {
    "colab": {
     "base_uri": "https://localhost:8080/"
    },
    "id": "0mfDsK2cEvC9",
    "outputId": "73e1d1f4-e52a-4c13-e968-93418fae2a94"
   },
   "outputs": [
    {
     "name": "stdout",
     "output_type": "stream",
     "text": [
      "a = 4\n",
      "b = 2\n",
      "4/2 =  2.0\n",
      "No exception occured during run\n",
      "Execution Completed\n"
     ]
    }
   ],
   "source": [
    "#program to handle any exception\n",
    "\n",
    "try:\n",
    "  a= int(input('a = '))\n",
    "  b= int(input('b = '))\n",
    "  c= a/b\n",
    "  print(f'{a}/{b} = ',c)\n",
    "except :\n",
    "  print('Some error occured')\n",
    "else :\n",
    "  print('No exception occured during run')\n",
    "finally:\n",
    "  print('Execution Completed')"
   ]
  }
 ],
 "metadata": {
  "colab": {
   "provenance": []
  },
  "kernelspec": {
   "display_name": "Python 3 (ipykernel)",
   "language": "python",
   "name": "python3"
  },
  "language_info": {
   "codemirror_mode": {
    "name": "ipython",
    "version": 3
   },
   "file_extension": ".py",
   "mimetype": "text/x-python",
   "name": "python",
   "nbconvert_exporter": "python",
   "pygments_lexer": "ipython3",
   "version": "3.8.17"
  }
 },
 "nbformat": 4,
 "nbformat_minor": 4
}
